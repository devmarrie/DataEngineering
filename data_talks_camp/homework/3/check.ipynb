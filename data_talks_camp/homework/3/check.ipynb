{
 "cells": [
  {
   "cell_type": "code",
   "execution_count": 1,
   "metadata": {},
   "outputs": [],
   "source": [
    "import pandas as pd"
   ]
  },
  {
   "cell_type": "code",
   "execution_count": 3,
   "metadata": {},
   "outputs": [],
   "source": [
    "df = pd.read_csv(\"fhv_tripdata_2019-01.csv\", nrows=100)"
   ]
  },
  {
   "cell_type": "code",
   "execution_count": 4,
   "metadata": {},
   "outputs": [
    {
     "data": {
      "text/html": [
       "<div>\n",
       "<style scoped>\n",
       "    .dataframe tbody tr th:only-of-type {\n",
       "        vertical-align: middle;\n",
       "    }\n",
       "\n",
       "    .dataframe tbody tr th {\n",
       "        vertical-align: top;\n",
       "    }\n",
       "\n",
       "    .dataframe thead th {\n",
       "        text-align: right;\n",
       "    }\n",
       "</style>\n",
       "<table border=\"1\" class=\"dataframe\">\n",
       "  <thead>\n",
       "    <tr style=\"text-align: right;\">\n",
       "      <th></th>\n",
       "      <th>dispatching_base_num</th>\n",
       "      <th>pickup_datetime</th>\n",
       "      <th>dropOff_datetime</th>\n",
       "      <th>PUlocationID</th>\n",
       "      <th>DOlocationID</th>\n",
       "      <th>SR_Flag</th>\n",
       "      <th>Affiliated_base_number</th>\n",
       "    </tr>\n",
       "  </thead>\n",
       "  <tbody>\n",
       "    <tr>\n",
       "      <th>0</th>\n",
       "      <td>B00001</td>\n",
       "      <td>2019-01-01 00:30:00</td>\n",
       "      <td>2019-01-01 02:51:55</td>\n",
       "      <td>NaN</td>\n",
       "      <td>NaN</td>\n",
       "      <td>NaN</td>\n",
       "      <td>B00001</td>\n",
       "    </tr>\n",
       "    <tr>\n",
       "      <th>1</th>\n",
       "      <td>B00001</td>\n",
       "      <td>2019-01-01 00:45:00</td>\n",
       "      <td>2019-01-01 00:54:49</td>\n",
       "      <td>NaN</td>\n",
       "      <td>NaN</td>\n",
       "      <td>NaN</td>\n",
       "      <td>B00001</td>\n",
       "    </tr>\n",
       "    <tr>\n",
       "      <th>2</th>\n",
       "      <td>B00001</td>\n",
       "      <td>2019-01-01 00:15:00</td>\n",
       "      <td>2019-01-01 00:54:52</td>\n",
       "      <td>NaN</td>\n",
       "      <td>NaN</td>\n",
       "      <td>NaN</td>\n",
       "      <td>B00001</td>\n",
       "    </tr>\n",
       "    <tr>\n",
       "      <th>3</th>\n",
       "      <td>B00008</td>\n",
       "      <td>2019-01-01 00:19:00</td>\n",
       "      <td>2019-01-01 00:39:00</td>\n",
       "      <td>NaN</td>\n",
       "      <td>NaN</td>\n",
       "      <td>NaN</td>\n",
       "      <td>B00008</td>\n",
       "    </tr>\n",
       "    <tr>\n",
       "      <th>4</th>\n",
       "      <td>B00008</td>\n",
       "      <td>2019-01-01 00:27:00</td>\n",
       "      <td>2019-01-01 00:37:00</td>\n",
       "      <td>NaN</td>\n",
       "      <td>NaN</td>\n",
       "      <td>NaN</td>\n",
       "      <td>B00008</td>\n",
       "    </tr>\n",
       "    <tr>\n",
       "      <th>...</th>\n",
       "      <td>...</td>\n",
       "      <td>...</td>\n",
       "      <td>...</td>\n",
       "      <td>...</td>\n",
       "      <td>...</td>\n",
       "      <td>...</td>\n",
       "      <td>...</td>\n",
       "    </tr>\n",
       "    <tr>\n",
       "      <th>95</th>\n",
       "      <td>B00248</td>\n",
       "      <td>2019-01-01 00:11:09</td>\n",
       "      <td>2019-01-01 00:20:59</td>\n",
       "      <td>NaN</td>\n",
       "      <td>265.0</td>\n",
       "      <td>NaN</td>\n",
       "      <td>B00248</td>\n",
       "    </tr>\n",
       "    <tr>\n",
       "      <th>96</th>\n",
       "      <td>B00248</td>\n",
       "      <td>2019-01-01 00:52:34</td>\n",
       "      <td>2019-01-01 01:01:06</td>\n",
       "      <td>NaN</td>\n",
       "      <td>265.0</td>\n",
       "      <td>NaN</td>\n",
       "      <td>B00248</td>\n",
       "    </tr>\n",
       "    <tr>\n",
       "      <th>97</th>\n",
       "      <td>B00248</td>\n",
       "      <td>2019-01-01 00:17:44</td>\n",
       "      <td>2019-01-01 00:24:03</td>\n",
       "      <td>NaN</td>\n",
       "      <td>265.0</td>\n",
       "      <td>NaN</td>\n",
       "      <td>B00248</td>\n",
       "    </tr>\n",
       "    <tr>\n",
       "      <th>98</th>\n",
       "      <td>B00248</td>\n",
       "      <td>2019-01-01 00:00:10</td>\n",
       "      <td>2019-01-01 00:33:26</td>\n",
       "      <td>NaN</td>\n",
       "      <td>265.0</td>\n",
       "      <td>NaN</td>\n",
       "      <td>B00248</td>\n",
       "    </tr>\n",
       "    <tr>\n",
       "      <th>99</th>\n",
       "      <td>B00248</td>\n",
       "      <td>2019-01-01 00:06:00</td>\n",
       "      <td>2019-01-01 00:36:23</td>\n",
       "      <td>NaN</td>\n",
       "      <td>265.0</td>\n",
       "      <td>NaN</td>\n",
       "      <td>B00248</td>\n",
       "    </tr>\n",
       "  </tbody>\n",
       "</table>\n",
       "<p>100 rows × 7 columns</p>\n",
       "</div>"
      ],
      "text/plain": [
       "   dispatching_base_num      pickup_datetime     dropOff_datetime  \\\n",
       "0                B00001  2019-01-01 00:30:00  2019-01-01 02:51:55   \n",
       "1                B00001  2019-01-01 00:45:00  2019-01-01 00:54:49   \n",
       "2                B00001  2019-01-01 00:15:00  2019-01-01 00:54:52   \n",
       "3                B00008  2019-01-01 00:19:00  2019-01-01 00:39:00   \n",
       "4                B00008  2019-01-01 00:27:00  2019-01-01 00:37:00   \n",
       "..                  ...                  ...                  ...   \n",
       "95               B00248  2019-01-01 00:11:09  2019-01-01 00:20:59   \n",
       "96               B00248  2019-01-01 00:52:34  2019-01-01 01:01:06   \n",
       "97               B00248  2019-01-01 00:17:44  2019-01-01 00:24:03   \n",
       "98               B00248  2019-01-01 00:00:10  2019-01-01 00:33:26   \n",
       "99               B00248  2019-01-01 00:06:00  2019-01-01 00:36:23   \n",
       "\n",
       "    PUlocationID  DOlocationID  SR_Flag Affiliated_base_number  \n",
       "0            NaN           NaN      NaN                 B00001  \n",
       "1            NaN           NaN      NaN                 B00001  \n",
       "2            NaN           NaN      NaN                 B00001  \n",
       "3            NaN           NaN      NaN                 B00008  \n",
       "4            NaN           NaN      NaN                 B00008  \n",
       "..           ...           ...      ...                    ...  \n",
       "95           NaN         265.0      NaN                 B00248  \n",
       "96           NaN         265.0      NaN                 B00248  \n",
       "97           NaN         265.0      NaN                 B00248  \n",
       "98           NaN         265.0      NaN                 B00248  \n",
       "99           NaN         265.0      NaN                 B00248  \n",
       "\n",
       "[100 rows x 7 columns]"
      ]
     },
     "execution_count": 4,
     "metadata": {},
     "output_type": "execute_result"
    }
   ],
   "source": [
    "df"
   ]
  },
  {
   "cell_type": "code",
   "execution_count": 5,
   "metadata": {},
   "outputs": [
    {
     "name": "stdout",
     "output_type": "stream",
     "text": [
      "CREATE TABLE \"fhv_trips_01\" (\n",
      "\"dispatching_base_num\" TEXT,\n",
      "  \"pickup_datetime\" TEXT,\n",
      "  \"dropOff_datetime\" TEXT,\n",
      "  \"PUlocationID\" REAL,\n",
      "  \"DOlocationID\" REAL,\n",
      "  \"SR_Flag\" REAL,\n",
      "  \"Affiliated_base_number\" TEXT\n",
      ")\n"
     ]
    }
   ],
   "source": [
    "print(pd.io.sql.get_schema(df, name=\"fhv_trips_01\"))"
   ]
  },
  {
   "cell_type": "code",
   "execution_count": 6,
   "metadata": {},
   "outputs": [],
   "source": [
    "df.pickup_datetime = pd.to_datetime(df.pickup_datetime)\n",
    "df.dropOff_datetime = pd.to_datetime(df.dropOff_datetime)"
   ]
  },
  {
   "cell_type": "code",
   "execution_count": 7,
   "metadata": {},
   "outputs": [
    {
     "name": "stdout",
     "output_type": "stream",
     "text": [
      "CREATE TABLE \"fhv_trips_01\" (\n",
      "\"dispatching_base_num\" TEXT,\n",
      "  \"pickup_datetime\" TIMESTAMP,\n",
      "  \"dropOff_datetime\" TIMESTAMP,\n",
      "  \"PUlocationID\" REAL,\n",
      "  \"DOlocationID\" REAL,\n",
      "  \"SR_Flag\" REAL,\n",
      "  \"Affiliated_base_number\" TEXT\n",
      ")\n"
     ]
    }
   ],
   "source": [
    "print(pd.io.sql.get_schema(df, name=\"fhv_trips_01\"))"
   ]
  }
 ],
 "metadata": {
  "kernelspec": {
   "display_name": "flow",
   "language": "python",
   "name": "python3"
  },
  "language_info": {
   "codemirror_mode": {
    "name": "ipython",
    "version": 3
   },
   "file_extension": ".py",
   "mimetype": "text/x-python",
   "name": "python",
   "nbconvert_exporter": "python",
   "pygments_lexer": "ipython3",
   "version": "3.10.12"
  },
  "orig_nbformat": 4
 },
 "nbformat": 4,
 "nbformat_minor": 2
}
