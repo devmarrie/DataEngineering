{
 "cells": [
  {
   "cell_type": "code",
   "execution_count": 1,
   "id": "d757c4d8",
   "metadata": {},
   "outputs": [],
   "source": [
    "import findspark\n",
    "findspark.init()"
   ]
  },
  {
   "cell_type": "code",
   "execution_count": 2,
   "id": "0057b6a1",
   "metadata": {},
   "outputs": [],
   "source": [
    "import pyspark"
   ]
  },
  {
   "cell_type": "code",
   "execution_count": 43,
   "id": "dbc18596",
   "metadata": {},
   "outputs": [],
   "source": [
    "from pyspark.sql import SparkSession\n",
    "from pyspark.sql.functions import date_trunc, sum, count, col\n",
    "from pyspark.sql.types import StructType, StructField, TimestampType, IntegerType, DoubleType\n",
    "from collections import namedtuple\n",
    "from datetime import datetime\n"
   ]
  },
  {
   "cell_type": "code",
   "execution_count": 44,
   "id": "c19c56cf",
   "metadata": {},
   "outputs": [],
   "source": [
    "# Create a SparkSession\n",
    "spark = SparkSession.builder \\\n",
    "    .master(\"local[*]\") \\\n",
    "    .appName('test') \\\n",
    "    .getOrCreate()"
   ]
  },
  {
   "cell_type": "code",
   "execution_count": 45,
   "id": "6a6b86e9",
   "metadata": {},
   "outputs": [],
   "source": [
    "# Load data\n",
    "df_green = spark.read.parquet('data/pq/green/*/*')\n"
   ]
  },
  {
   "cell_type": "code",
   "execution_count": 46,
   "id": "64d32d34",
   "metadata": {},
   "outputs": [],
   "source": [
    "# Define start date\n",
    "start = datetime(year=2020, month=1, day=1)"
   ]
  },
  {
   "cell_type": "code",
   "execution_count": 47,
   "id": "3beabef9",
   "metadata": {},
   "outputs": [],
   "source": [
    "# Define a schema for the result\n",
    "result_schema = StructType([\n",
    "    StructField('hour', TimestampType(), True),\n",
    "    StructField('zone', IntegerType(), True),\n",
    "    StructField('revenue', DoubleType(), True),\n",
    "    StructField('count', IntegerType(), True)\n",
    "])"
   ]
  },
  {
   "cell_type": "code",
   "execution_count": 56,
   "id": "184c26d7",
   "metadata": {},
   "outputs": [],
   "source": [
    "# Define a namedtuple for df_predicts\n",
    "RevenueRow = namedtuple('RevenueRow', ['hour', 'zone', 'revenue', 'count'])"
   ]
  },
  {
   "cell_type": "code",
   "execution_count": 67,
   "id": "00c7e76e",
   "metadata": {},
   "outputs": [],
   "source": [
    "rdd = df_green.rdd.filter(lambda row: row['lpep_pickup_datetime'] >= start) \\\n",
    "    .map(lambda row: ((row['lpep_pickup_datetime'].replace(minute=0, second=0, microsecond=0), row['PULocationID']), (row['total_amount'], 1))) \\\n",
    "#     .reduceByKey(lambda left_value, right_value: (left_value[0] + right_value[0], left_value[1] + right_value[1]))"
   ]
  },
  {
   "cell_type": "code",
   "execution_count": 68,
   "id": "4bc5e456",
   "metadata": {},
   "outputs": [],
   "source": [
    "# Reduce by key to calculate revenue\n",
    "def calculate_revenue(left_value, right_value):\n",
    "    left_amount, left_count = left_value\n",
    "    right_amount, right_count = right_value\n",
    "\n",
    "    output_amount = left_amount + right_amount\n",
    "    output_count = left_count + right_count\n",
    "\n",
    "    return (output_amount, output_count)"
   ]
  },
  {
   "cell_type": "code",
   "execution_count": 70,
   "id": "6ccbe850",
   "metadata": {},
   "outputs": [
    {
     "ename": "NameError",
     "evalue": "name 'portable_hash' is not defined",
     "output_type": "error",
     "traceback": [
      "\u001b[0;31m---------------------------------------------------------------------------\u001b[0m",
      "\u001b[0;31mNameError\u001b[0m                                 Traceback (most recent call last)",
      "Cell \u001b[0;32mIn[70], line 1\u001b[0m\n\u001b[0;32m----> 1\u001b[0m reduced_rdd \u001b[38;5;241m=\u001b[39m rdd\u001b[38;5;241m.\u001b[39mreduceByKey(calculate_revenue, numPartitions\u001b[38;5;241m=\u001b[39m\u001b[38;5;241m4\u001b[39m, partitionFunc\u001b[38;5;241m=\u001b[39mportable_hash, serializer\u001b[38;5;241m=\u001b[39mPickleSerializer())\n",
      "\u001b[0;31mNameError\u001b[0m: name 'portable_hash' is not defined"
     ]
    }
   ],
   "source": [
    "reduced_rdd = rdd.reduceByKey(calculate_revenue, numPartitions=4, partitionFunc=portable_hash, serializer=PickleSerializer())"
   ]
  },
  {
   "cell_type": "code",
   "execution_count": 52,
   "id": "37abfbe7",
   "metadata": {},
   "outputs": [],
   "source": [
    "def unwrap(row):\n",
    "    return PredictedRow(\n",
    "        VendorID=row[0][0], \n",
    "        lpep_pickup_datetime=row[0][0], \n",
    "        PULocationID=row[0][1], \n",
    "        DOLocationID=None, \n",
    "        trip_distance=None, \n",
    "        predicted_duration=row[1][0]\n",
    "    )"
   ]
  },
  {
   "cell_type": "code",
   "execution_count": 55,
   "id": "44883f6e",
   "metadata": {},
   "outputs": [
    {
     "ename": "AttributeError",
     "evalue": "'DataFrame' object has no attribute 'map'",
     "output_type": "error",
     "traceback": [
      "\u001b[0;31m---------------------------------------------------------------------------\u001b[0m",
      "\u001b[0;31mAttributeError\u001b[0m                            Traceback (most recent call last)",
      "Cell \u001b[0;32mIn[55], line 3\u001b[0m\n\u001b[1;32m      1\u001b[0m df_result \u001b[38;5;241m=\u001b[39m df_green \\\n\u001b[1;32m      2\u001b[0m     \u001b[38;5;241m.\u001b[39mfilter(col(\u001b[38;5;124m'\u001b[39m\u001b[38;5;124mlpep_pickup_datetime\u001b[39m\u001b[38;5;124m'\u001b[39m) \u001b[38;5;241m>\u001b[39m\u001b[38;5;241m=\u001b[39m start) \\\n\u001b[0;32m----> 3\u001b[0m     \u001b[38;5;241m.\u001b[39mmap(prepare_for_grouping) \\\n\u001b[1;32m      4\u001b[0m     \u001b[38;5;241m.\u001b[39mreduceByKey(calculate_revenue) \\\n\u001b[1;32m      5\u001b[0m     \u001b[38;5;241m.\u001b[39mmap(unwrap) \\\n\u001b[1;32m      6\u001b[0m     \u001b[38;5;241m.\u001b[39mtoDF(result_schema)\n",
      "File \u001b[0;32m/opt/spark/python/pyspark/sql/dataframe.py:1988\u001b[0m, in \u001b[0;36mDataFrame.__getattr__\u001b[0;34m(self, name)\u001b[0m\n\u001b[1;32m   1978\u001b[0m \u001b[38;5;250m\u001b[39m\u001b[38;5;124;03m\"\"\"Returns the :class:`Column` denoted by ``name``.\u001b[39;00m\n\u001b[1;32m   1979\u001b[0m \n\u001b[1;32m   1980\u001b[0m \u001b[38;5;124;03m.. versionadded:: 1.3.0\u001b[39;00m\n\u001b[0;32m   (...)\u001b[0m\n\u001b[1;32m   1985\u001b[0m \u001b[38;5;124;03m[Row(age=2), Row(age=5)]\u001b[39;00m\n\u001b[1;32m   1986\u001b[0m \u001b[38;5;124;03m\"\"\"\u001b[39;00m\n\u001b[1;32m   1987\u001b[0m \u001b[38;5;28;01mif\u001b[39;00m name \u001b[38;5;129;01mnot\u001b[39;00m \u001b[38;5;129;01min\u001b[39;00m \u001b[38;5;28mself\u001b[39m\u001b[38;5;241m.\u001b[39mcolumns:\n\u001b[0;32m-> 1988\u001b[0m     \u001b[38;5;28;01mraise\u001b[39;00m \u001b[38;5;167;01mAttributeError\u001b[39;00m(\n\u001b[1;32m   1989\u001b[0m         \u001b[38;5;124m\"\u001b[39m\u001b[38;5;124m'\u001b[39m\u001b[38;5;132;01m%s\u001b[39;00m\u001b[38;5;124m'\u001b[39m\u001b[38;5;124m object has no attribute \u001b[39m\u001b[38;5;124m'\u001b[39m\u001b[38;5;132;01m%s\u001b[39;00m\u001b[38;5;124m'\u001b[39m\u001b[38;5;124m\"\u001b[39m \u001b[38;5;241m%\u001b[39m (\u001b[38;5;28mself\u001b[39m\u001b[38;5;241m.\u001b[39m\u001b[38;5;18m__class__\u001b[39m\u001b[38;5;241m.\u001b[39m\u001b[38;5;18m__name__\u001b[39m, name)\n\u001b[1;32m   1990\u001b[0m     )\n\u001b[1;32m   1991\u001b[0m jc \u001b[38;5;241m=\u001b[39m \u001b[38;5;28mself\u001b[39m\u001b[38;5;241m.\u001b[39m_jdf\u001b[38;5;241m.\u001b[39mapply(name)\n\u001b[1;32m   1992\u001b[0m \u001b[38;5;28;01mreturn\u001b[39;00m Column(jc)\n",
      "\u001b[0;31mAttributeError\u001b[0m: 'DataFrame' object has no attribute 'map'"
     ]
    }
   ],
   "source": [
    "df_result = df_green \\\n",
    "    .filter(col('lpep_pickup_datetime') >= start) \\\n",
    "    .map(prepare_for_grouping) \\\n",
    "    .reduceByKey(calculate_revenue) \\\n",
    "    .map(unwrap) \\\n",
    "    .toDF(result_schema) "
   ]
  },
  {
   "cell_type": "code",
   "execution_count": null,
   "id": "4f174a4b",
   "metadata": {},
   "outputs": [],
   "source": []
  },
  {
   "cell_type": "code",
   "execution_count": null,
   "id": "3a7ab8e8",
   "metadata": {},
   "outputs": [],
   "source": []
  }
 ],
 "metadata": {
  "kernelspec": {
   "display_name": "Python 3 (ipykernel)",
   "language": "python",
   "name": "python3"
  },
  "language_info": {
   "codemirror_mode": {
    "name": "ipython",
    "version": 3
   },
   "file_extension": ".py",
   "mimetype": "text/x-python",
   "name": "python",
   "nbconvert_exporter": "python",
   "pygments_lexer": "ipython3",
   "version": "3.11.4"
  }
 },
 "nbformat": 4,
 "nbformat_minor": 5
}
