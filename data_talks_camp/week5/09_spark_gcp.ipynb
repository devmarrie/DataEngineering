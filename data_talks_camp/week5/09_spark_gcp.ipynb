{
 "cells": [
  {
   "cell_type": "code",
   "execution_count": 1,
   "id": "e6e7f624",
   "metadata": {},
   "outputs": [],
   "source": [
    "import findspark\n",
    "findspark.init()"
   ]
  },
  {
   "cell_type": "code",
   "execution_count": 2,
   "id": "728dcea0",
   "metadata": {},
   "outputs": [],
   "source": [
    "import pyspark\n",
    "from pyspark.sql import SparkSession\n",
    "from pyspark.conf import SparkConf\n",
    "from pyspark.context import SparkContext"
   ]
  },
  {
   "cell_type": "code",
   "execution_count": 3,
   "id": "cd3cee12",
   "metadata": {},
   "outputs": [],
   "source": [
    "# configure spark with a connector and credentials\n",
    "\n",
    "credentials_location = '/home/devmarrie/Downloads/arcane-grin-394118-6939fd2cc56c.json'\n",
    "\n",
    "conf = SparkConf() \\\n",
    "    .setMaster('local[*]') \\\n",
    "    .setAppName('test') \\\n",
    "    .set(\"spark.jars\", \"./lib/gcs-connector-hadoop3-2.2.5.jar\") \\\n",
    "    .set(\"spark.hadoop.google.cloud.auth.service.account.enable\", \"true\") \\\n",
    "    .set(\"spark.hadoop.google.cloud.auth.service.account.json.keyfile\", credentials_location)"
   ]
  },
  {
   "cell_type": "code",
   "execution_count": 4,
   "id": "9e661f0d",
   "metadata": {},
   "outputs": [
    {
     "name": "stdout",
     "output_type": "stream",
     "text": [
      "23/10/03 17:07:58 WARN NativeCodeLoader: Unable to load native-hadoop library for your platform... using builtin-java classes where applicable\n"
     ]
    },
    {
     "name": "stderr",
     "output_type": "stream",
     "text": [
      "Setting default log level to \"WARN\".\n",
      "To adjust logging level use sc.setLogLevel(newLevel). For SparkR, use setLogLevel(newLevel).\n"
     ]
    },
    {
     "name": "stdout",
     "output_type": "stream",
     "text": [
      "23/10/03 17:08:02 WARN Utils: Service 'SparkUI' could not bind on port 4040. Attempting port 4041.\n",
      "23/10/03 17:08:02 WARN Utils: Service 'SparkUI' could not bind on port 4041. Attempting port 4042.\n"
     ]
    }
   ],
   "source": [
    "# Set up the hadoop configuration\n",
    "\n",
    "sc = SparkContext(conf=conf)\n",
    "\n",
    "hadoop_conf = sc._jsc.hadoopConfiguration()\n",
    "\n",
    "hadoop_conf.set(\"fs.AbstractFileSystem.gs.impl\",  \"com.google.cloud.hadoop.fs.gcs.GoogleHadoopFS\")\n",
    "hadoop_conf.set(\"fs.gs.impl\", \"com.google.cloud.hadoop.fs.gcs.GoogleHadoopFileSystem\")\n",
    "hadoop_conf.set(\"fs.gs.auth.service.account.json.keyfile\", credentials_location)\n",
    "hadoop_conf.set(\"fs.gs.auth.service.account.enable\", \"true\")"
   ]
  },
  {
   "cell_type": "code",
   "execution_count": 5,
   "id": "2f5caf48",
   "metadata": {},
   "outputs": [],
   "source": [
    "# use the hadoop configuration to build a spark session\n",
    "spark = SparkSession.builder \\\n",
    "    .config(conf=sc.getConf()) \\\n",
    "    .getOrCreate()"
   ]
  },
  {
   "cell_type": "code",
   "execution_count": 6,
   "id": "8d67c2b5",
   "metadata": {},
   "outputs": [
    {
     "name": "stderr",
     "output_type": "stream",
     "text": [
      "                                                                                \r"
     ]
    }
   ],
   "source": [
    "# Access the data\n",
    "\n",
    "df_green = spark.read.parquet('gs://dtc_data_lake_arcane-grin-394118/pq/green/*/*')"
   ]
  },
  {
   "cell_type": "code",
   "execution_count": 7,
   "id": "a508034b",
   "metadata": {},
   "outputs": [
    {
     "name": "stderr",
     "output_type": "stream",
     "text": [
      "\r",
      "[Stage 1:>                                                          (0 + 1) / 1]\r"
     ]
    },
    {
     "name": "stdout",
     "output_type": "stream",
     "text": [
      "+--------+--------------------+---------------------+------------------+----------+------------+------------+---------------+-------------+-----------+-----+-------+----------+------------+---------+---------------------+------------+------------+---------+--------------------+\n",
      "|VendorID|lpep_pickup_datetime|lpep_dropoff_datetime|store_and_fwd_flag|RatecodeID|PULocationID|DOLocationID|passenger_count|trip_distance|fare_amount|extra|mta_tax|tip_amount|tolls_amount|ehail_fee|improvement_surcharge|total_amount|payment_type|trip_type|congestion_surcharge|\n",
      "+--------+--------------------+---------------------+------------------+----------+------------+------------+---------------+-------------+-----------+-----+-------+----------+------------+---------+---------------------+------------+------------+---------+--------------------+\n",
      "|       2| 2020-01-18 14:54:39|  2020-01-18 15:16:34|                 N|         1|          66|         161|              1|         6.95|       23.0|  0.0|    0.5|      5.31|         0.0|     null|                  0.3|       31.86|           1|        1|                2.75|\n",
      "|       2| 2020-01-21 17:55:07|  2020-01-21 18:10:20|                 N|         1|          74|          42|              1|         1.61|       11.0|  1.0|    0.5|       0.0|         0.0|     null|                  0.3|        12.8|           2|        1|                 0.0|\n",
      "|       2| 2020-01-24 08:15:41|  2020-01-24 08:29:22|                 N|         1|          82|         173|              1|         2.05|       11.0|  0.0|    0.5|       0.0|         0.0|     null|                  0.3|        11.8|           2|        1|                 0.0|\n",
      "|    null| 2020-01-29 14:18:00|  2020-01-29 14:37:00|              null|      null|         205|          95|           null|         5.32|      29.56| 2.75|    0.0|       0.0|         0.0|     null|                  0.3|       32.61|        null|     null|                null|\n",
      "|       2| 2020-01-05 21:54:45|  2020-01-05 22:05:14|                 N|         1|          65|          49|              1|         1.94|        9.0|  0.5|    0.5|      2.06|         0.0|     null|                  0.3|       12.36|           1|        1|                 0.0|\n",
      "|    null| 2020-01-07 05:18:00|  2020-01-07 05:44:00|              null|      null|         136|         107|           null|        12.49|      32.77|  0.0|    0.0|       0.0|         0.0|     null|                  0.3|       33.07|        null|     null|                null|\n",
      "|       2| 2020-01-11 14:06:26|  2020-01-11 14:16:31|                 N|         1|          31|         241|              1|         2.08|        9.5|  0.0|    0.5|      3.09|         0.0|     null|                  0.3|       13.39|           1|        1|                 0.0|\n",
      "|    null| 2020-01-22 12:42:00|  2020-01-22 12:55:00|              null|      null|         155|          39|           null|         2.99|      23.79| 2.75|    0.0|       0.0|         0.0|     null|                  0.3|       26.84|        null|     null|                null|\n",
      "|       2| 2020-01-10 20:32:24|  2020-01-10 20:48:05|                 N|         1|          74|         166|              5|         2.31|       11.5|  0.5|    0.5|       0.1|         0.0|     null|                  0.3|        12.9|           1|        1|                 0.0|\n",
      "|       1| 2020-01-21 16:09:22|  2020-01-21 16:30:17|                 N|         1|         244|         142|              1|          5.8|       20.5| 3.75|    0.5|       0.0|         0.0|     null|                  0.3|       25.05|           2|        1|                2.75|\n",
      "|       2| 2020-01-17 10:56:55|  2020-01-17 11:04:27|                 N|         1|           7|         223|              1|         1.62|        7.5|  0.0|    0.5|      1.66|         0.0|     null|                  0.3|        9.96|           1|        1|                 0.0|\n",
      "|       2| 2020-01-16 07:34:58|  2020-01-16 07:51:29|                 N|         1|          74|         243|              6|         4.99|       18.0|  0.0|    0.5|       0.0|         0.0|     null|                  0.3|        18.8|           2|        1|                 0.0|\n",
      "|    null| 2020-01-03 14:37:00|  2020-01-03 14:57:00|              null|      null|          61|          52|           null|         2.92|      14.38|  0.0|    0.0|       0.0|         0.0|     null|                  0.3|       14.68|        null|     null|                null|\n",
      "|       2| 2020-01-19 02:36:01|  2020-01-19 02:45:58|                 N|         5|          65|          49|              2|         1.79|       35.0|  0.0|    0.0|     10.59|         0.0|     null|                  0.3|       45.89|           1|        2|                 0.0|\n",
      "|       2| 2020-01-07 15:35:53|  2020-01-07 15:59:53|                 N|         1|          82|         162|              1|         5.07|       19.0|  0.0|    0.5|       0.0|         0.0|     null|                  0.3|       22.55|           2|        1|                2.75|\n",
      "|       2| 2020-01-16 19:19:56|  2020-01-16 19:24:55|                 N|         1|          75|         236|              1|         0.97|        5.5|  1.0|    0.5|       0.0|         0.0|     null|                  0.3|       10.05|           2|        1|                2.75|\n",
      "|    null| 2020-01-08 12:02:00|  2020-01-08 12:20:00|              null|      null|         127|          42|           null|         4.96|      21.01| 2.75|    0.0|       0.0|         0.0|     null|                  0.3|       24.06|        null|     null|                null|\n",
      "|       2| 2020-01-29 18:21:27|  2020-01-29 18:22:10|                 N|         1|          14|          14|              1|         0.32|        3.0|  1.0|    0.5|       0.0|         0.0|     null|                  0.3|         4.8|           2|        1|                 0.0|\n",
      "|       2| 2020-01-31 09:28:46|  2020-01-31 09:37:24|                 N|         1|         134|         130|              1|         1.49|        8.5|  0.0|    0.5|       2.0|         0.0|     null|                  0.3|        11.3|           1|        1|                 0.0|\n",
      "|       2| 2020-01-26 17:52:06|  2020-01-26 18:18:05|                 N|         1|         133|          22|              5|         3.94|       18.0|  0.0|    0.5|       2.0|         0.0|     null|                  0.3|       22.75|           1|        1|                 0.0|\n",
      "+--------+--------------------+---------------------+------------------+----------+------------+------------+---------------+-------------+-----------+-----+-------+----------+------------+---------+---------------------+------------+------------+---------+--------------------+\n",
      "only showing top 20 rows\n",
      "\n"
     ]
    },
    {
     "name": "stderr",
     "output_type": "stream",
     "text": [
      "\r",
      "                                                                                \r"
     ]
    }
   ],
   "source": [
    "df_green.show()"
   ]
  },
  {
   "cell_type": "code",
   "execution_count": null,
   "id": "6d003326",
   "metadata": {},
   "outputs": [],
   "source": []
  }
 ],
 "metadata": {
  "kernelspec": {
   "display_name": "Python 3 (ipykernel)",
   "language": "python",
   "name": "python3"
  },
  "language_info": {
   "codemirror_mode": {
    "name": "ipython",
    "version": 3
   },
   "file_extension": ".py",
   "mimetype": "text/x-python",
   "name": "python",
   "nbconvert_exporter": "python",
   "pygments_lexer": "ipython3",
   "version": "3.11.4"
  }
 },
 "nbformat": 4,
 "nbformat_minor": 5
}
