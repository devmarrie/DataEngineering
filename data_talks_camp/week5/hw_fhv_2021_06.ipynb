{
 "cells": [
  {
   "cell_type": "code",
   "execution_count": 1,
   "id": "f69fb0cb",
   "metadata": {},
   "outputs": [],
   "source": [
    "import findspark"
   ]
  },
  {
   "cell_type": "code",
   "execution_count": 2,
   "id": "974f1c92",
   "metadata": {},
   "outputs": [],
   "source": [
    "findspark.init()"
   ]
  },
  {
   "cell_type": "code",
   "execution_count": 3,
   "id": "6b6deaea",
   "metadata": {},
   "outputs": [],
   "source": [
    "import pyspark"
   ]
  },
  {
   "cell_type": "code",
   "execution_count": 4,
   "id": "4ed03b83",
   "metadata": {},
   "outputs": [
    {
     "data": {
      "text/plain": [
       "'3.3.3'"
      ]
     },
     "execution_count": 4,
     "metadata": {},
     "output_type": "execute_result"
    }
   ],
   "source": [
    "pyspark.__version__"
   ]
  },
  {
   "cell_type": "code",
   "execution_count": 5,
   "id": "9e47f7c7",
   "metadata": {},
   "outputs": [],
   "source": [
    "from pyspark.sql import SparkSession"
   ]
  },
  {
   "cell_type": "code",
   "execution_count": 6,
   "id": "f06df284",
   "metadata": {},
   "outputs": [
    {
     "name": "stderr",
     "output_type": "stream",
     "text": [
      "Setting default log level to \"WARN\".\n",
      "To adjust logging level use sc.setLogLevel(newLevel). For SparkR, use setLogLevel(newLevel).\n"
     ]
    },
    {
     "name": "stdout",
     "output_type": "stream",
     "text": [
      "23/10/06 15:18:19 WARN NativeCodeLoader: Unable to load native-hadoop library for your platform... using builtin-java classes where applicable\n"
     ]
    }
   ],
   "source": [
    "spark = SparkSession.builder \\\n",
    "    .master(\"local[*]\") \\\n",
    "    .appName(\"test\") \\\n",
    "    .getOrCreate()"
   ]
  },
  {
   "cell_type": "code",
   "execution_count": 7,
   "id": "eb13fbf8",
   "metadata": {},
   "outputs": [
    {
     "name": "stderr",
     "output_type": "stream",
     "text": [
      "\r",
      "[Stage 0:>                                                          (0 + 1) / 1]\r",
      "\r",
      "                                                                                \r"
     ]
    }
   ],
   "source": [
    "df_fhv = spark.read.option(\"header\", \"true\").csv(\"data/raw/fhv/fhvhv_tripdata_2021-06.csv.gz\")"
   ]
  },
  {
   "cell_type": "code",
   "execution_count": 8,
   "id": "e8c70ea0",
   "metadata": {},
   "outputs": [
    {
     "name": "stdout",
     "output_type": "stream",
     "text": [
      "+--------------------+-------------------+-------------------+------------+------------+-------+----------------------+\n",
      "|dispatching_base_num|    pickup_datetime|   dropoff_datetime|PULocationID|DOLocationID|SR_Flag|Affiliated_base_number|\n",
      "+--------------------+-------------------+-------------------+------------+------------+-------+----------------------+\n",
      "|              B02764|2021-06-01 00:02:41|2021-06-01 00:07:46|         174|          18|      N|                B02764|\n",
      "|              B02764|2021-06-01 00:16:16|2021-06-01 00:21:14|          32|         254|      N|                B02764|\n",
      "|              B02764|2021-06-01 00:27:01|2021-06-01 00:42:11|         240|         127|      N|                B02764|\n",
      "|              B02764|2021-06-01 00:46:08|2021-06-01 00:53:45|         127|         235|      N|                B02764|\n",
      "|              B02510|2021-06-01 00:45:42|2021-06-01 01:03:33|         144|         146|      N|                  null|\n",
      "|              B02510|2021-06-01 00:18:15|2021-06-01 00:25:47|          49|          17|      N|                  null|\n",
      "|              B02510|2021-06-01 00:33:06|2021-06-01 00:42:46|          49|         225|      N|                  null|\n",
      "|              B02510|2021-06-01 00:46:27|2021-06-01 00:56:50|         225|         177|      N|                  null|\n",
      "|              B02764|2021-06-01 00:48:06|2021-06-01 01:04:10|         209|          45|      N|                B02764|\n",
      "|              B02875|2021-06-01 00:18:54|2021-06-01 00:26:14|          80|         256|      N|                B02875|\n",
      "|              B02875|2021-06-01 00:31:02|2021-06-01 00:36:39|         217|          17|      N|                B02875|\n",
      "|              B02875|2021-06-01 00:41:53|2021-06-01 01:07:32|          17|         265|      N|                B02875|\n",
      "|              B02875|2021-06-01 00:29:52|2021-06-01 00:54:41|         210|          76|      N|                B02875|\n",
      "|              B02510|2021-06-01 00:15:57|2021-06-01 00:39:36|         226|         213|      N|                  null|\n",
      "|              B02510|2021-06-01 00:11:59|2021-06-01 00:23:32|         191|           9|      N|                  null|\n",
      "|              B02510|2021-06-01 00:30:35|2021-06-01 00:45:35|          16|         250|      N|                  null|\n",
      "|              B02510|2021-06-01 00:49:01|2021-06-01 01:03:50|         182|         259|      N|                  null|\n",
      "|              B02510|2021-06-01 00:07:36|2021-06-01 00:21:13|         188|          72|      N|                  null|\n",
      "|              B02510|2021-06-01 00:25:48|2021-06-01 00:40:43|          39|          72|      N|                  null|\n",
      "|              B02510|2021-06-01 00:46:11|2021-06-01 00:53:39|          72|          35|      N|                  null|\n",
      "+--------------------+-------------------+-------------------+------------+------------+-------+----------------------+\n",
      "only showing top 20 rows\n",
      "\n"
     ]
    }
   ],
   "source": [
    "df_fhv.show()"
   ]
  },
  {
   "cell_type": "code",
   "execution_count": 9,
   "id": "64f3b2d1",
   "metadata": {},
   "outputs": [
    {
     "name": "stdout",
     "output_type": "stream",
     "text": [
      "root\n",
      " |-- dispatching_base_num: string (nullable = true)\n",
      " |-- pickup_datetime: string (nullable = true)\n",
      " |-- dropoff_datetime: string (nullable = true)\n",
      " |-- PULocationID: string (nullable = true)\n",
      " |-- DOLocationID: string (nullable = true)\n",
      " |-- SR_Flag: string (nullable = true)\n",
      " |-- Affiliated_base_number: string (nullable = true)\n",
      "\n"
     ]
    }
   ],
   "source": [
    "df_fhv.printSchema()"
   ]
  },
  {
   "cell_type": "code",
   "execution_count": 10,
   "id": "39195818",
   "metadata": {},
   "outputs": [],
   "source": [
    "import pandas as pd\n",
    "df_pandas = pd.read_csv(\"data/raw/fhv/fhvhv_tripdata_2021-06.csv.gz\", nrows=100)"
   ]
  },
  {
   "cell_type": "code",
   "execution_count": 11,
   "id": "06bd8287",
   "metadata": {},
   "outputs": [
    {
     "data": {
      "text/plain": [
       "dispatching_base_num      object\n",
       "pickup_datetime           object\n",
       "dropoff_datetime          object\n",
       "PULocationID               int64\n",
       "DOLocationID               int64\n",
       "SR_Flag                   object\n",
       "Affiliated_base_number    object\n",
       "dtype: object"
      ]
     },
     "execution_count": 11,
     "metadata": {},
     "output_type": "execute_result"
    }
   ],
   "source": [
    "df_pandas.dtypes"
   ]
  },
  {
   "cell_type": "code",
   "execution_count": 12,
   "id": "67073f4c",
   "metadata": {},
   "outputs": [],
   "source": [
    "#spark.createDataFrame(df_pandas).schema (if it has null values it will produce an error)\n",
    "from pyspark.sql import types\n",
    "\n",
    "schema = types.StructType([\n",
    "    types.StructField('dispatching_base_num', types.StringType(), True),\n",
    "    types.StructField('pickup_datetime', types.TimestampType(), True),\n",
    "    types.StructField('dropoff_datetime', types.TimestampType(), True),\n",
    "    types.StructField('PULocationID', types.LongType(), True),\n",
    "    types.StructField('DOLocationID', types.LongType(), True),\n",
    "    types.StructField('SR_Flag', types.StringType(), True),\n",
    "    types.StructField('Affiliated_base_number', types.StringType(), True)\n",
    "])"
   ]
  },
  {
   "cell_type": "code",
   "execution_count": 13,
   "id": "3b326525",
   "metadata": {},
   "outputs": [],
   "source": [
    "df_fhv_sc = spark.read \\\n",
    "    .option(\"header\", \"true\") \\\n",
    "    .schema(schema) \\\n",
    "    .csv(\"data/raw/fhv/fhvhv_tripdata_2021-06.csv.gz\")\n",
    "    "
   ]
  },
  {
   "cell_type": "code",
   "execution_count": 23,
   "id": "be259e1a",
   "metadata": {},
   "outputs": [
    {
     "name": "stderr",
     "output_type": "stream",
     "text": [
      "                                                                                \r"
     ]
    }
   ],
   "source": [
    "\n",
    "df_fhv_sc \\\n",
    "    .repartition(12) \\\n",
    "    .write.parquet(\"data/pq/fhv/\")"
   ]
  },
  {
   "cell_type": "code",
   "execution_count": 14,
   "id": "b15b031a",
   "metadata": {},
   "outputs": [],
   "source": [
    "df_rep = spark.read \\\n",
    "    .parquet(\"data/pq/fhv/*\")"
   ]
  },
  {
   "cell_type": "code",
   "execution_count": 15,
   "id": "02c1fb07",
   "metadata": {},
   "outputs": [
    {
     "name": "stderr",
     "output_type": "stream",
     "text": [
      "\r",
      "[Stage 3:>                                                          (0 + 1) / 1]\r"
     ]
    },
    {
     "name": "stdout",
     "output_type": "stream",
     "text": [
      "+--------------------+-------------------+-------------------+------------+------------+-------+----------------------+\n",
      "|dispatching_base_num|    pickup_datetime|   dropoff_datetime|PULocationID|DOLocationID|SR_Flag|Affiliated_base_number|\n",
      "+--------------------+-------------------+-------------------+------------+------------+-------+----------------------+\n",
      "|              B02875|2021-06-16 22:08:45|2021-06-16 22:38:10|          48|         181|      N|                B02875|\n",
      "|              B02875|2021-06-27 08:13:22|2021-06-27 08:16:18|          10|          10|      N|                B02875|\n",
      "|              B02510|2021-06-13 22:34:33|2021-06-13 22:53:03|          89|         189|      N|                  null|\n",
      "|              B02764|2021-06-15 11:15:06|2021-06-15 11:35:40|          36|          82|      N|                B02764|\n",
      "|              B02510|2021-06-09 11:41:36|2021-06-09 11:45:32|         254|         254|      N|                  null|\n",
      "|              B02510|2021-06-29 23:42:03|2021-06-29 23:51:34|         148|          87|      N|                  null|\n",
      "|              B02888|2021-06-13 04:53:18|2021-06-13 05:05:18|         243|         244|      N|                B02888|\n",
      "|              B02510|2021-06-09 17:55:18|2021-06-09 18:03:11|          72|          35|      N|                  null|\n",
      "|              B02510|2021-06-24 16:49:04|2021-06-24 18:14:26|         262|         265|      N|                  null|\n",
      "|              B02510|2021-06-24 17:52:45|2021-06-24 17:59:31|          51|          51|      N|                  null|\n",
      "|              B02510|2021-06-21 22:40:04|2021-06-21 23:10:13|         212|         265|      N|                  null|\n",
      "|              B02835|2021-06-17 08:01:09|2021-06-17 08:12:28|         226|         129|      N|                B02835|\n",
      "|              B02880|2021-06-25 02:36:55|2021-06-25 02:47:11|         135|         258|      N|                B02880|\n",
      "|              B02764|2021-06-12 01:30:12|2021-06-12 01:44:28|          50|         234|      N|                B02764|\n",
      "|              B02764|2021-06-17 10:39:50|2021-06-17 10:52:58|         174|         220|      N|                B02764|\n",
      "|              B02510|2021-06-18 06:27:02|2021-06-18 06:43:46|         132|         258|      N|                  null|\n",
      "|              B02510|2021-06-27 13:27:03|2021-06-27 13:37:51|          52|         228|      N|                  null|\n",
      "|              B02878|2021-06-02 17:18:16|2021-06-02 17:30:23|         116|          24|      N|                B02878|\n",
      "|              B02395|2021-06-21 11:32:25|2021-06-21 11:59:49|          17|         138|      N|                B02395|\n",
      "|              B02510|2021-06-18 12:00:10|2021-06-18 13:09:25|          86|         135|      N|                  null|\n",
      "+--------------------+-------------------+-------------------+------------+------------+-------+----------------------+\n",
      "only showing top 20 rows\n",
      "\n"
     ]
    },
    {
     "name": "stderr",
     "output_type": "stream",
     "text": [
      "\r",
      "                                                                                \r"
     ]
    }
   ],
   "source": [
    "df_rep.show()"
   ]
  },
  {
   "cell_type": "code",
   "execution_count": 22,
   "id": "f52019a8",
   "metadata": {},
   "outputs": [],
   "source": [
    "df_rep.createOrReplaceTempView(\"trips\")"
   ]
  },
  {
   "cell_type": "code",
   "execution_count": 44,
   "id": "51fc05bd",
   "metadata": {},
   "outputs": [
    {
     "name": "stderr",
     "output_type": "stream",
     "text": [
      "\r",
      "[Stage 40:>                                                         (0 + 4) / 4]\r"
     ]
    },
    {
     "name": "stdout",
     "output_type": "stream",
     "text": [
      "+----------+\n",
      "|trip_count|\n",
      "+----------+\n",
      "|    452470|\n",
      "+----------+\n",
      "\n"
     ]
    },
    {
     "name": "stderr",
     "output_type": "stream",
     "text": [
      "\r",
      "                                                                                \r"
     ]
    }
   ],
   "source": [
    "spark.sql(\n",
    "\"\"\"\n",
    "SELECT COUNT(*) AS trip_count\n",
    "FROM trips\n",
    "WHERE EXTRACT(DAY FROM pickup_datetime) = 15\n",
    "\"\"\").show()"
   ]
  },
  {
   "cell_type": "code",
   "execution_count": 19,
   "id": "5b4cba78",
   "metadata": {},
   "outputs": [
    {
     "name": "stdout",
     "output_type": "stream",
     "text": [
      "+--------------------+---------------+----------------+------------+------------+-------+----------------------+\n",
      "|dispatching_base_num|pickup_datetime|dropoff_datetime|PULocationID|DOLocationID|SR_Flag|Affiliated_base_number|\n",
      "+--------------------+---------------+----------------+------------+------------+-------+----------------------+\n",
      "+--------------------+---------------+----------------+------------+------------+-------+----------------------+\n",
      "\n"
     ]
    }
   ],
   "source": [
    "from pyspark.sql import functions as F\n",
    "\n",
    "# ceate a timestamp literal to compare with\n",
    "filter_date = F.lit('2021-06-15').cast(\"timestamp\") # casted to timestamp will  be 2021-06-15 00:00:00\n",
    "comp = F.lit('2021-06-15').cast(\"timestamp\")\n",
    "\n",
    "filtered_df = df_rep.filter((F.col(\"pickup_datetime\") >= filter_date) & (F.col(\"pickup_datetime\") < filter_date))\n",
    "filtered_df.show()\n"
   ]
  },
  {
   "cell_type": "code",
   "execution_count": 49,
   "id": "6532da96",
   "metadata": {},
   "outputs": [
    {
     "name": "stdout",
     "output_type": "stream",
     "text": [
      "2\n"
     ]
    },
    {
     "name": "stderr",
     "output_type": "stream",
     "text": [
      "\r",
      "[Stage 50:===========================================>              (3 + 1) / 4]\r",
      "\r",
      "                                                                                \r"
     ]
    }
   ],
   "source": [
    "total = filtered_df.count()\n",
    "print(total)"
   ]
  },
  {
   "cell_type": "code",
   "execution_count": 30,
   "id": "2c5a6ea8",
   "metadata": {},
   "outputs": [],
   "source": [
    "df_duration = spark.sql(\"\"\"\n",
    "WITH cte AS (\n",
    "  SELECT \n",
    "    dispatching_base_num, \n",
    "    (unix_timestamp(dropoff_datetime)) - (unix_timestamp(pickup_datetime)) / 3600 AS hrs\n",
    "  FROM trips\n",
    ")\n",
    "SELECT MAX(hrs) AS mx\n",
    "FROM cte;\n",
    "\"\"\")"
   ]
  },
  {
   "cell_type": "code",
   "execution_count": 31,
   "id": "aa6d40d1",
   "metadata": {},
   "outputs": [
    {
     "name": "stderr",
     "output_type": "stream",
     "text": [
      "\r",
      "[Stage 15:>                                                         (0 + 4) / 4]\r"
     ]
    },
    {
     "name": "stdout",
     "output_type": "stream",
     "text": [
      "+--------------------+\n",
      "|                  mx|\n",
      "+--------------------+\n",
      "|1.6246425001691666E9|\n",
      "+--------------------+\n",
      "\n"
     ]
    },
    {
     "name": "stderr",
     "output_type": "stream",
     "text": [
      "\r",
      "[Stage 15:==============>                                           (1 + 3) / 4]\r",
      "\r",
      "                                                                                \r"
     ]
    }
   ],
   "source": [
    "df_duration.show()"
   ]
  },
  {
   "cell_type": "code",
   "execution_count": 65,
   "id": "6a233916",
   "metadata": {},
   "outputs": [],
   "source": [
    "df_zones = spark.read.parquet('zones/')"
   ]
  },
  {
   "cell_type": "code",
   "execution_count": 66,
   "id": "00b36f68",
   "metadata": {},
   "outputs": [
    {
     "name": "stdout",
     "output_type": "stream",
     "text": [
      "+----------+-------------+--------------------+------------+\n",
      "|LocationID|      Borough|                Zone|service_zone|\n",
      "+----------+-------------+--------------------+------------+\n",
      "|         1|          EWR|      Newark Airport|         EWR|\n",
      "|         2|       Queens|         Jamaica Bay|   Boro Zone|\n",
      "|         3|        Bronx|Allerton/Pelham G...|   Boro Zone|\n",
      "|         4|    Manhattan|       Alphabet City| Yellow Zone|\n",
      "|         5|Staten Island|       Arden Heights|   Boro Zone|\n",
      "|         6|Staten Island|Arrochar/Fort Wad...|   Boro Zone|\n",
      "|         7|       Queens|             Astoria|   Boro Zone|\n",
      "|         8|       Queens|        Astoria Park|   Boro Zone|\n",
      "|         9|       Queens|          Auburndale|   Boro Zone|\n",
      "|        10|       Queens|        Baisley Park|   Boro Zone|\n",
      "|        11|     Brooklyn|          Bath Beach|   Boro Zone|\n",
      "|        12|    Manhattan|        Battery Park| Yellow Zone|\n",
      "|        13|    Manhattan|   Battery Park City| Yellow Zone|\n",
      "|        14|     Brooklyn|           Bay Ridge|   Boro Zone|\n",
      "|        15|       Queens|Bay Terrace/Fort ...|   Boro Zone|\n",
      "|        16|       Queens|             Bayside|   Boro Zone|\n",
      "|        17|     Brooklyn|             Bedford|   Boro Zone|\n",
      "|        18|        Bronx|        Bedford Park|   Boro Zone|\n",
      "|        19|       Queens|           Bellerose|   Boro Zone|\n",
      "|        20|        Bronx|             Belmont|   Boro Zone|\n",
      "+----------+-------------+--------------------+------------+\n",
      "only showing top 20 rows\n",
      "\n"
     ]
    }
   ],
   "source": [
    "df_zones.show()"
   ]
  },
  {
   "cell_type": "code",
   "execution_count": 67,
   "id": "4fab27c2",
   "metadata": {},
   "outputs": [],
   "source": [
    "df_fhv_zone = df_rep.join(df_zones, df_rep.PULocationID == df_zones.LocationID)"
   ]
  },
  {
   "cell_type": "code",
   "execution_count": 69,
   "id": "be70971c",
   "metadata": {},
   "outputs": [
    {
     "name": "stdout",
     "output_type": "stream",
     "text": [
      "+--------------------+-------------------+-------------------+------------+------------+-------+----------------------+---------+--------------------+------------+\n",
      "|dispatching_base_num|    pickup_datetime|   dropoff_datetime|PULocationID|DOLocationID|SR_Flag|Affiliated_base_number|  Borough|                Zone|service_zone|\n",
      "+--------------------+-------------------+-------------------+------------+------------+-------+----------------------+---------+--------------------+------------+\n",
      "|              B02875|2021-06-16 22:08:45|2021-06-16 22:38:10|          48|         181|      N|                B02875|Manhattan|        Clinton East| Yellow Zone|\n",
      "|              B02875|2021-06-27 08:13:22|2021-06-27 08:16:18|          10|          10|      N|                B02875|   Queens|        Baisley Park|   Boro Zone|\n",
      "|              B02510|2021-06-13 22:34:33|2021-06-13 22:53:03|          89|         189|      N|                  null| Brooklyn|Flatbush/Ditmas Park|   Boro Zone|\n",
      "|              B02764|2021-06-15 11:15:06|2021-06-15 11:35:40|          36|          82|      N|                B02764| Brooklyn|      Bushwick North|   Boro Zone|\n",
      "|              B02510|2021-06-09 11:41:36|2021-06-09 11:45:32|         254|         254|      N|                  null|    Bronx|Williamsbridge/Ol...|   Boro Zone|\n",
      "|              B02510|2021-06-29 23:42:03|2021-06-29 23:51:34|         148|          87|      N|                  null|Manhattan|     Lower East Side| Yellow Zone|\n",
      "|              B02888|2021-06-13 04:53:18|2021-06-13 05:05:18|         243|         244|      N|                B02888|Manhattan|Washington Height...|   Boro Zone|\n",
      "|              B02510|2021-06-09 17:55:18|2021-06-09 18:03:11|          72|          35|      N|                  null| Brooklyn|East Flatbush/Rem...|   Boro Zone|\n",
      "|              B02510|2021-06-24 16:49:04|2021-06-24 18:14:26|         262|         265|      N|                  null|Manhattan|      Yorkville East| Yellow Zone|\n",
      "|              B02510|2021-06-24 17:52:45|2021-06-24 17:59:31|          51|          51|      N|                  null|    Bronx|          Co-Op City|   Boro Zone|\n",
      "|              B02510|2021-06-21 22:40:04|2021-06-21 23:10:13|         212|         265|      N|                  null|    Bronx|  Soundview/Bruckner|   Boro Zone|\n",
      "|              B02835|2021-06-17 08:01:09|2021-06-17 08:12:28|         226|         129|      N|                B02835|   Queens|           Sunnyside|   Boro Zone|\n",
      "|              B02880|2021-06-25 02:36:55|2021-06-25 02:47:11|         135|         258|      N|                B02880|   Queens|   Kew Gardens Hills|   Boro Zone|\n",
      "|              B02764|2021-06-12 01:30:12|2021-06-12 01:44:28|          50|         234|      N|                B02764|Manhattan|        Clinton West| Yellow Zone|\n",
      "|              B02764|2021-06-17 10:39:50|2021-06-17 10:52:58|         174|         220|      N|                B02764|    Bronx|             Norwood|   Boro Zone|\n",
      "|              B02510|2021-06-18 06:27:02|2021-06-18 06:43:46|         132|         258|      N|                  null|   Queens|         JFK Airport|    Airports|\n",
      "|              B02510|2021-06-27 13:27:03|2021-06-27 13:37:51|          52|         228|      N|                  null| Brooklyn|         Cobble Hill|   Boro Zone|\n",
      "|              B02878|2021-06-02 17:18:16|2021-06-02 17:30:23|         116|          24|      N|                B02878|Manhattan|    Hamilton Heights|   Boro Zone|\n",
      "|              B02395|2021-06-21 11:32:25|2021-06-21 11:59:49|          17|         138|      N|                B02395| Brooklyn|             Bedford|   Boro Zone|\n",
      "|              B02510|2021-06-18 12:00:10|2021-06-18 13:09:25|          86|         135|      N|                  null|   Queens|        Far Rockaway|   Boro Zone|\n",
      "+--------------------+-------------------+-------------------+------------+------------+-------+----------------------+---------+--------------------+------------+\n",
      "only showing top 20 rows\n",
      "\n"
     ]
    }
   ],
   "source": [
    "df_fhv_zone.drop('LocationID').show()"
   ]
  },
  {
   "cell_type": "code",
   "execution_count": 71,
   "id": "53a05a0e",
   "metadata": {},
   "outputs": [],
   "source": [
    "df_id_zone = df_fhv_zone.select('PULocationID','Zone' )"
   ]
  },
  {
   "cell_type": "code",
   "execution_count": 73,
   "id": "561254c4",
   "metadata": {},
   "outputs": [
    {
     "name": "stdout",
     "output_type": "stream",
     "text": [
      "+------------+--------------------+\n",
      "|PULocationID|                Zone|\n",
      "+------------+--------------------+\n",
      "|          48|        Clinton East|\n",
      "|          10|        Baisley Park|\n",
      "|          89|Flatbush/Ditmas Park|\n",
      "|          36|      Bushwick North|\n",
      "|         254|Williamsbridge/Ol...|\n",
      "|         148|     Lower East Side|\n",
      "|         243|Washington Height...|\n",
      "|          72|East Flatbush/Rem...|\n",
      "|         262|      Yorkville East|\n",
      "|          51|          Co-Op City|\n",
      "|         212|  Soundview/Bruckner|\n",
      "|         226|           Sunnyside|\n",
      "|         135|   Kew Gardens Hills|\n",
      "|          50|        Clinton West|\n",
      "|         174|             Norwood|\n",
      "|         132|         JFK Airport|\n",
      "|          52|         Cobble Hill|\n",
      "|         116|    Hamilton Heights|\n",
      "|          17|             Bedford|\n",
      "|          86|        Far Rockaway|\n",
      "+------------+--------------------+\n",
      "only showing top 20 rows\n",
      "\n"
     ]
    }
   ],
   "source": [
    "df_id_zone.show()"
   ]
  },
  {
   "cell_type": "code",
   "execution_count": 72,
   "id": "e8e5df69",
   "metadata": {},
   "outputs": [],
   "source": [
    "df_id_zone.createOrReplaceTempView(\"pick_zones\")"
   ]
  },
  {
   "cell_type": "code",
   "execution_count": 79,
   "id": "b113557c",
   "metadata": {},
   "outputs": [
    {
     "name": "stderr",
     "output_type": "stream",
     "text": [
      "\r",
      "[Stage 95:>                                                         (0 + 4) / 4]\r"
     ]
    },
    {
     "name": "stdout",
     "output_type": "stream",
     "text": [
      "+-------------------+\n",
      "|               Zone|\n",
      "+-------------------+\n",
      "|Crown Heights North|\n",
      "+-------------------+\n",
      "\n"
     ]
    },
    {
     "name": "stderr",
     "output_type": "stream",
     "text": [
      "\r",
      "                                                                                \r"
     ]
    }
   ],
   "source": [
    "spark.sql(\"\"\"\n",
    "WITH cte AS (\n",
    "SELECT PULocationID, Zone, COUNT(*) AS times\n",
    "FROM pick_zones\n",
    "GROUP BY PULocationID, Zone \n",
    ")\n",
    "SELECT Zone\n",
    "FROM cte\n",
    "ORDER BY times DESC\n",
    "LIMIT 1\n",
    "\"\"\").show()"
   ]
  },
  {
   "cell_type": "code",
   "execution_count": null,
   "id": "b365fb60",
   "metadata": {},
   "outputs": [],
   "source": []
  }
 ],
 "metadata": {
  "kernelspec": {
   "display_name": "Python 3 (ipykernel)",
   "language": "python",
   "name": "python3"
  },
  "language_info": {
   "codemirror_mode": {
    "name": "ipython",
    "version": 3
   },
   "file_extension": ".py",
   "mimetype": "text/x-python",
   "name": "python",
   "nbconvert_exporter": "python",
   "pygments_lexer": "ipython3",
   "version": "3.11.4"
  }
 },
 "nbformat": 4,
 "nbformat_minor": 5
}
