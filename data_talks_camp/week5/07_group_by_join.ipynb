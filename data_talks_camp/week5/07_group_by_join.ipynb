{
 "cells": [
  {
   "cell_type": "code",
   "execution_count": 1,
   "id": "8c249a5e",
   "metadata": {},
   "outputs": [],
   "source": [
    "import findspark"
   ]
  },
  {
   "cell_type": "code",
   "execution_count": 2,
   "id": "37c5e50e",
   "metadata": {},
   "outputs": [],
   "source": [
    "findspark.init()"
   ]
  },
  {
   "cell_type": "code",
   "execution_count": 3,
   "id": "4ca08b61",
   "metadata": {},
   "outputs": [],
   "source": [
    "import pyspark"
   ]
  },
  {
   "cell_type": "code",
   "execution_count": 6,
   "id": "ca3b24c2",
   "metadata": {},
   "outputs": [],
   "source": [
    "from pyspark.sql import SparkSession\n",
    "spark = SparkSession.builder\\\n",
    "        .master(\"local[*]\")\\\n",
    "        .appName('test')\\\n",
    "        .getOrCreate()"
   ]
  },
  {
   "cell_type": "code",
   "execution_count": 7,
   "id": "234987cb",
   "metadata": {},
   "outputs": [
    {
     "name": "stderr",
     "output_type": "stream",
     "text": [
      "                                                                                \r"
     ]
    }
   ],
   "source": [
    "df_green = spark.read.parquet('data/pq/green/*/*')"
   ]
  },
  {
   "cell_type": "code",
   "execution_count": 8,
   "id": "96fa8182",
   "metadata": {},
   "outputs": [],
   "source": [
    "df_green.createOrReplaceTempView('green')"
   ]
  },
  {
   "cell_type": "code",
   "execution_count": 11,
   "id": "a3db2508",
   "metadata": {},
   "outputs": [],
   "source": [
    "df_green_revenue = spark.sql(\"\"\"\n",
    "SELECT \n",
    "    date_trunc('hour', lpep_pickup_datetime) AS hour, \n",
    "    PULocationID AS zone,\n",
    "\n",
    "    SUM(total_amount) AS amount,\n",
    "    COUNT(1) AS number_records\n",
    "FROM\n",
    "    green\n",
    "WHERE\n",
    "    lpep_pickup_datetime >= '2020-01-01 00:00:00'\n",
    "GROUP BY\n",
    "    1, 2\n",
    "ORDER BY \n",
    "    1, 2\n",
    "\"\"\")"
   ]
  },
  {
   "cell_type": "code",
   "execution_count": 10,
   "id": "9570f202",
   "metadata": {},
   "outputs": [
    {
     "name": "stderr",
     "output_type": "stream",
     "text": [
      "[Stage 1:============================================>              (3 + 1) / 4]\r"
     ]
    },
    {
     "name": "stdout",
     "output_type": "stream",
     "text": [
      "+-------------------+----+------------------+--------------+\n",
      "|               hour|zone|            amount|number_records|\n",
      "+-------------------+----+------------------+--------------+\n",
      "|2020-01-02 14:00:00|  26| 327.4800000000001|            11|\n",
      "|2020-01-06 15:00:00| 241|             184.7|             3|\n",
      "|2020-01-22 13:00:00|  74| 666.2399999999999|            44|\n",
      "|2020-01-14 23:00:00| 223|             48.31|             4|\n",
      "|2020-01-09 23:00:00| 260|202.33000000000004|            16|\n",
      "|2020-01-30 09:00:00|  75|1010.3499999999995|            67|\n",
      "|2020-01-11 21:00:00|  41| 700.5999999999997|            50|\n",
      "|2020-01-07 18:00:00|  45|112.39000000000001|             4|\n",
      "|2020-01-02 09:00:00|  42| 555.7500000000001|            33|\n",
      "|2020-01-04 23:00:00|  25|             376.4|            26|\n",
      "|2020-01-25 11:00:00| 259|            161.21|             3|\n",
      "|2020-01-16 20:00:00|  52|             108.6|             7|\n",
      "|2020-01-16 06:00:00|  74| 600.7999999999998|            37|\n",
      "|2020-01-17 07:00:00|  41| 481.6400000000002|            39|\n",
      "|2020-01-17 04:00:00|  82|108.74999999999999|            10|\n",
      "|2020-01-22 16:00:00| 244|            926.17|            32|\n",
      "|2020-01-02 18:00:00|  66|210.76000000000002|            11|\n",
      "|2020-01-30 22:00:00|  36|              85.1|             3|\n",
      "|2020-01-17 19:00:00|  17|133.57999999999998|            13|\n",
      "|2020-01-17 21:00:00|  33|            565.29|            26|\n",
      "+-------------------+----+------------------+--------------+\n",
      "only showing top 20 rows\n",
      "\n"
     ]
    },
    {
     "name": "stderr",
     "output_type": "stream",
     "text": [
      "\r",
      "                                                                                \r"
     ]
    }
   ],
   "source": [
    "df_green_revenue.show()"
   ]
  },
  {
   "cell_type": "code",
   "execution_count": 20,
   "id": "5a025c23",
   "metadata": {},
   "outputs": [
    {
     "name": "stderr",
     "output_type": "stream",
     "text": [
      "                                                                                \r"
     ]
    }
   ],
   "source": [
    "df_green_revenue \\\n",
    "    .repartition(20) \\\n",
    "    .write.parquet('data/report/revenue/green', mode='overwrite')"
   ]
  },
  {
   "cell_type": "code",
   "execution_count": 14,
   "id": "fc9d2461",
   "metadata": {},
   "outputs": [],
   "source": [
    "df_yellow = spark.read.parquet('data/pq/yellow/*/*')"
   ]
  },
  {
   "cell_type": "code",
   "execution_count": 15,
   "id": "2a8aef77",
   "metadata": {},
   "outputs": [],
   "source": [
    "df_yellow.createOrReplaceTempView('yellow')"
   ]
  },
  {
   "cell_type": "code",
   "execution_count": 16,
   "id": "1c8e256a",
   "metadata": {},
   "outputs": [],
   "source": [
    "df_yellow_revenue = spark.sql(\"\"\"\n",
    "SELECT \n",
    "    date_trunc('hour', tpep_pickup_datetime) AS hour, \n",
    "    PULocationID AS zone,\n",
    "\n",
    "    SUM(total_amount) AS amount,\n",
    "    COUNT(1) AS number_records\n",
    "FROM\n",
    "    yellow\n",
    "WHERE\n",
    "    tpep_pickup_datetime >= '2020-01-01 00:00:00'\n",
    "GROUP BY\n",
    "    1, 2\n",
    "\"\"\")"
   ]
  },
  {
   "cell_type": "code",
   "execution_count": 17,
   "id": "5a80aa6f",
   "metadata": {},
   "outputs": [
    {
     "name": "stderr",
     "output_type": "stream",
     "text": [
      "[Stage 21:==============================================>         (10 + 2) / 12]\r"
     ]
    },
    {
     "name": "stdout",
     "output_type": "stream",
     "text": [
      "+-------------------+----+------------------+--------------+\n",
      "|               hour|zone|            amount|number_records|\n",
      "+-------------------+----+------------------+--------------+\n",
      "|2020-01-16 18:00:00| 232|261.71000000000004|            12|\n",
      "|2020-01-06 05:00:00|  48|2105.5099999999984|           136|\n",
      "|2020-01-03 15:00:00| 163| 5261.330000000002|           348|\n",
      "|2020-01-06 11:00:00|  43|2731.4199999999983|           185|\n",
      "|2020-01-17 07:00:00|  24|           1058.45|            62|\n",
      "|2020-01-12 11:00:00| 163| 4039.869999999997|           244|\n",
      "|2020-01-20 20:00:00| 144|1758.8999999999996|           107|\n",
      "|2020-01-27 18:00:00| 162|11701.700000000033|           698|\n",
      "|2020-01-26 03:00:00| 263|           1156.81|            69|\n",
      "|2020-01-20 18:00:00| 113|2801.8799999999987|           197|\n",
      "|2020-01-24 15:00:00| 186|7813.4200000000155|           446|\n",
      "|2020-01-26 16:00:00| 236| 7387.040000000016|           509|\n",
      "|2020-01-09 18:00:00| 263| 4200.289999999999|           268|\n",
      "|2020-01-26 16:00:00| 239| 6371.280000000007|           407|\n",
      "|2020-01-13 14:00:00|  68| 4097.159999999997|           225|\n",
      "|2020-01-25 09:00:00| 186| 5292.580000000002|           353|\n",
      "|2020-01-02 18:00:00| 236| 6305.760000000005|           427|\n",
      "|2020-01-02 12:00:00| 161| 7460.580000000015|           450|\n",
      "|2020-01-23 22:00:00| 164| 6399.600000000009|           352|\n",
      "|2020-01-26 00:00:00| 230| 6046.940000000003|           360|\n",
      "+-------------------+----+------------------+--------------+\n",
      "only showing top 20 rows\n",
      "\n"
     ]
    },
    {
     "name": "stderr",
     "output_type": "stream",
     "text": [
      "\r",
      "                                                                                \r"
     ]
    }
   ],
   "source": [
    "df_yellow_revenue.show()"
   ]
  },
  {
   "cell_type": "code",
   "execution_count": 21,
   "id": "fb9090f3",
   "metadata": {},
   "outputs": [
    {
     "name": "stderr",
     "output_type": "stream",
     "text": [
      "                                                                                \r"
     ]
    }
   ],
   "source": [
    "df_yellow_revenue \\\n",
    "    .repartition(20) \\\n",
    "    .write.parquet('data/report/revenue/yellow', mode='overwrite')"
   ]
  },
  {
   "cell_type": "code",
   "execution_count": 25,
   "id": "f7f4ae00",
   "metadata": {},
   "outputs": [],
   "source": [
    "df_yellow_revenue_tmp = df_yellow_revenue \\\n",
    "    .withColumnRenamed('amount', 'yellow_amount') \\\n",
    "    .withColumnRenamed('number_records', 'yellow_number_of_records')\n",
    "\n",
    "df_green_revenue_tmp = df_green_revenue \\\n",
    "    .withColumnRenamed('amount', 'green_amount') \\\n",
    "    .withColumnRenamed('number_records', 'green_number_of_records')"
   ]
  },
  {
   "cell_type": "code",
   "execution_count": 29,
   "id": "f4600aad",
   "metadata": {},
   "outputs": [],
   "source": [
    "# what if we use the computed data\n",
    "df_green_revenue_comp = spark.read.parquet('data/report/revenue/yellow')\n",
    "df_yellow_revenue_comp = spark.read.parquet('data/report/revenue/green')\n"
   ]
  },
  {
   "cell_type": "code",
   "execution_count": 30,
   "id": "ddae6ab1",
   "metadata": {},
   "outputs": [],
   "source": [
    "df_yellow_revenue_tmp = df_yellow_revenue_comp \\\n",
    "    .withColumnRenamed('amount', 'yellow_amount') \\\n",
    "    .withColumnRenamed('number_records', 'yellow_number_of_records')\n",
    "\n",
    "df_green_revenue_tmp = df_green_revenue_comp \\\n",
    "    .withColumnRenamed('amount', 'green_amount') \\\n",
    "    .withColumnRenamed('number_records', 'green_number_of_records')"
   ]
  },
  {
   "cell_type": "code",
   "execution_count": 31,
   "id": "b97654ee",
   "metadata": {},
   "outputs": [],
   "source": [
    "df_join = df_green_revenue_tmp.join(df_yellow_revenue_tmp, on=['hour', 'zone'], how='outer')"
   ]
  },
  {
   "cell_type": "code",
   "execution_count": 32,
   "id": "e200d914",
   "metadata": {},
   "outputs": [
    {
     "name": "stderr",
     "output_type": "stream",
     "text": [
      "[Stage 69:>                                                         (0 + 1) / 1]\r"
     ]
    },
    {
     "name": "stdout",
     "output_type": "stream",
     "text": [
      "+-------------------+----+------------------+-----------------------+------------------+------------------------+\n",
      "|               hour|zone|      green_amount|green_number_of_records|     yellow_amount|yellow_number_of_records|\n",
      "+-------------------+----+------------------+-----------------------+------------------+------------------------+\n",
      "|2020-01-01 00:00:00|  15|             34.09|                      1|              null|                    null|\n",
      "|2020-01-01 00:00:00|  25|            324.35|                     16|             531.0|                      26|\n",
      "|2020-01-01 00:00:00|  29|              null|                   null|              61.3|                       1|\n",
      "|2020-01-01 00:00:00|  33|            255.56|                      8| 317.2700000000001|                      11|\n",
      "|2020-01-01 00:00:00|  34|              19.3|                      1|              null|                    null|\n",
      "|2020-01-01 00:00:00|  41|1256.5300000000002|                     80|1363.9599999999982|                      84|\n",
      "|2020-01-01 00:00:00|  42| 635.3500000000001|                     46| 799.7599999999996|                      52|\n",
      "|2020-01-01 00:00:00|  51|              31.0|                      1|              17.8|                       2|\n",
      "|2020-01-01 00:00:00|  59|              null|                   null|50.900000000000006|                       3|\n",
      "|2020-01-01 00:00:00|  62|             61.43|                      1|             15.95|                       1|\n",
      "|2020-01-01 00:00:00|  69|106.52000000000001|                      4|              11.8|                       1|\n",
      "|2020-01-01 00:00:00|  71|              null|                   null|              23.8|                       1|\n",
      "|2020-01-01 00:00:00|  76|             35.51|                      2|143.77999999999997|                       4|\n",
      "|2020-01-01 00:00:00|  81|             30.32|                      1|54.870000000000005|                       2|\n",
      "|2020-01-01 00:00:00|  87| 2456.669999999999|                    112|              null|                    null|\n",
      "|2020-01-01 00:00:00|  89|             48.16|                      2|              11.3|                       1|\n",
      "|2020-01-01 00:00:00| 108|              18.8|                      1|              null|                    null|\n",
      "|2020-01-01 00:00:00| 112|119.47999999999999|                      8|312.26000000000005|                      18|\n",
      "|2020-01-01 00:00:00| 125|           1342.07|                     68|              null|                    null|\n",
      "|2020-01-01 00:00:00| 126|             170.6|                      2|              null|                    null|\n",
      "+-------------------+----+------------------+-----------------------+------------------+------------------------+\n",
      "only showing top 20 rows\n",
      "\n"
     ]
    },
    {
     "name": "stderr",
     "output_type": "stream",
     "text": [
      "\r",
      "                                                                                \r"
     ]
    }
   ],
   "source": [
    "df_join.show()"
   ]
  },
  {
   "cell_type": "code",
   "execution_count": 34,
   "id": "0dec355c",
   "metadata": {},
   "outputs": [
    {
     "name": "stderr",
     "output_type": "stream",
     "text": [
      "                                                                                \r"
     ]
    }
   ],
   "source": [
    "df_join.write.parquet('data/report/revenue/total', mode='overwrite')"
   ]
  },
  {
   "cell_type": "code",
   "execution_count": 36,
   "id": "10254916",
   "metadata": {},
   "outputs": [],
   "source": [
    "df_zones = spark.read.parquet('zones/')"
   ]
  },
  {
   "cell_type": "code",
   "execution_count": 37,
   "id": "6a41b978",
   "metadata": {},
   "outputs": [
    {
     "name": "stdout",
     "output_type": "stream",
     "text": [
      "+----------+-------------+--------------------+------------+\n",
      "|LocationID|      Borough|                Zone|service_zone|\n",
      "+----------+-------------+--------------------+------------+\n",
      "|         1|          EWR|      Newark Airport|         EWR|\n",
      "|         2|       Queens|         Jamaica Bay|   Boro Zone|\n",
      "|         3|        Bronx|Allerton/Pelham G...|   Boro Zone|\n",
      "|         4|    Manhattan|       Alphabet City| Yellow Zone|\n",
      "|         5|Staten Island|       Arden Heights|   Boro Zone|\n",
      "|         6|Staten Island|Arrochar/Fort Wad...|   Boro Zone|\n",
      "|         7|       Queens|             Astoria|   Boro Zone|\n",
      "|         8|       Queens|        Astoria Park|   Boro Zone|\n",
      "|         9|       Queens|          Auburndale|   Boro Zone|\n",
      "|        10|       Queens|        Baisley Park|   Boro Zone|\n",
      "|        11|     Brooklyn|          Bath Beach|   Boro Zone|\n",
      "|        12|    Manhattan|        Battery Park| Yellow Zone|\n",
      "|        13|    Manhattan|   Battery Park City| Yellow Zone|\n",
      "|        14|     Brooklyn|           Bay Ridge|   Boro Zone|\n",
      "|        15|       Queens|Bay Terrace/Fort ...|   Boro Zone|\n",
      "|        16|       Queens|             Bayside|   Boro Zone|\n",
      "|        17|     Brooklyn|             Bedford|   Boro Zone|\n",
      "|        18|        Bronx|        Bedford Park|   Boro Zone|\n",
      "|        19|       Queens|           Bellerose|   Boro Zone|\n",
      "|        20|        Bronx|             Belmont|   Boro Zone|\n",
      "+----------+-------------+--------------------+------------+\n",
      "only showing top 20 rows\n",
      "\n"
     ]
    }
   ],
   "source": [
    "df_zones.show()"
   ]
  },
  {
   "cell_type": "code",
   "execution_count": 38,
   "id": "4a117ce7",
   "metadata": {},
   "outputs": [],
   "source": [
    "df_result = df_join.join(df_zones, df_join.zone == df_zones.LocationID)"
   ]
  },
  {
   "cell_type": "code",
   "execution_count": 44,
   "id": "07fc9d6c",
   "metadata": {},
   "outputs": [
    {
     "name": "stderr",
     "output_type": "stream",
     "text": [
      "                                                                                \r"
     ]
    }
   ],
   "source": [
    "df_result.drop('LocationID', 'zone').write.parquet('data/report/revenue/zones', mode='overwrite')"
   ]
  },
  {
   "cell_type": "code",
   "execution_count": null,
   "id": "3fc09b8b",
   "metadata": {},
   "outputs": [],
   "source": []
  }
 ],
 "metadata": {
  "kernelspec": {
   "display_name": "Python 3 (ipykernel)",
   "language": "python",
   "name": "python3"
  },
  "language_info": {
   "codemirror_mode": {
    "name": "ipython",
    "version": 3
   },
   "file_extension": ".py",
   "mimetype": "text/x-python",
   "name": "python",
   "nbconvert_exporter": "python",
   "pygments_lexer": "ipython3",
   "version": "3.11.4"
  }
 },
 "nbformat": 4,
 "nbformat_minor": 5
}
